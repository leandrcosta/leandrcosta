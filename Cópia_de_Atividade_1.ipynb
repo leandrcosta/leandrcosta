{
  "nbformat": 4,
  "nbformat_minor": 0,
  "metadata": {
    "colab": {
      "provenance": [],
      "authorship_tag": "ABX9TyNWLhjhliYtnq3VQy4rnd8V"
    },
    "kernelspec": {
      "name": "python3",
      "display_name": "Python 3"
    },
    "language_info": {
      "name": "python"
    }
  },
  "cells": [
    {
      "cell_type": "code",
      "execution_count": null,
      "metadata": {
        "id": "m85SNF8yEUR_"
      },
      "outputs": [],
      "source": [
        "'''\n",
        "Aluno: Leandro Augusto Diniz Costa     RGM:25068946\n",
        "Atividade 1\n",
        "Em uma rua movimentada de São Paulo, foi realizada uma pesquisa com 30 pessoas, cujo objetivo era conhecer o perfil dos pedestres.\n",
        "Os entrevistados responderam às seguintes perguntas:\n",
        "1) Qual é a sua idade?;\n",
        "2) Qual é o seu gênero? (Masculino – M ou Feminino – F);\n",
        "3) Qual é o seu salário?\n",
        "Faça um Programa utilizando a linguagem Python utilizando comando de repetição (não utilize listas), que obtenha para cada entrevistado os dados referentes às perguntas anteriores.\n",
        "O Programa deve calcular e mostrar:\n",
        "a) A média de idade dos pedestres entrevistados;\n",
        "b) A média de salários dos entrevistados do gênero masculino.\n",
        "'''\n",
        "import numpy;\n",
        "# Declarando função e variáveis:\n",
        "def searchPeople():\n",
        "  sumAge = 0\n",
        "  sumSalary = 0\n",
        "  medianAge = 0\n",
        "  sumSalaryGenderMasc = 0\n",
        "  medianSalaryGenderMasc = 0\n",
        "\n",
        "# Colhendo os dados da pesquisa:\n",
        "  for i in range(30):\n",
        "    print('Pessoa número - ', i + 1 )\n",
        "    print(35*'=')\n",
        "    agePeople = int(input('Qual é a sua idade? '))\n",
        "    genderPeople = (input(' Qual é o seu gênero ( M ou F )? '))\n",
        "    salaryPeople = int(input( 'Qual é o seu salário? '))\n",
        "\n",
        "# Processando os dados pra Output:\n",
        "    sumAge += agePeople\n",
        "    medianAge = numpy.mean(sumAge)\n",
        "    sumSalary += salaryPeople\n",
        "\n",
        "    print(35*'=')\n",
        "    print(sumAge)\n",
        "    print(sumSalary)\n",
        "    print(35*'=')\n",
        "\n",
        "    if((genderPeople == 'M') or (genderPeople == 'm')):\n",
        "      salaryGenderMan = sumSalaryGenderMasc + salaryPeople\n",
        "      medianSalaryGenderMasc = numpy.mean(salaryGenderMan)\n",
        "      print('media' , medianSalaryGenderMasc)\n",
        "\n",
        "# Output dos dados:\n",
        "print(50*'=')\n",
        "print('Media de idade dos entrevistados: ' , medianAge)\n",
        "print(50*'=')\n",
        "print('Media de salario do sexo Masculino: ' , medianSalaryGenderMasc)\n",
        "\n",
        "searchPeople()"
      ]
    },
    {
      "cell_type": "code",
      "source": [],
      "metadata": {
        "id": "iQQVSzQwHMWm"
      },
      "execution_count": null,
      "outputs": []
    }
  ]
}